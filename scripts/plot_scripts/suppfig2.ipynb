{
 "cells": [
  {
   "cell_type": "code",
   "execution_count": 70,
   "metadata": {},
   "outputs": [],
   "source": [
    "import glob\n",
    "import os\n",
    "import numpy as np\n",
    "import pandas as pd\n",
    "import scienceplots\n",
    "import seaborn as sns\n",
    "import yaml\n",
    "from matplotlib import pyplot as plt\n",
    "from tqdm import tqdm\n",
    "from scipy import stats\n",
    "from matplotlib.ticker import PercentFormatter\n",
    "import marsilea as ma\n",
    "import marsilea.plotter as mp\n",
    "from pybedtools import BedTool\n",
    "plt.style.use([\"science\", \"nature\"])\n",
    "import pickle\n",
    "\n",
    "plt.rcParams['xtick.labelsize'] = 5\n",
    "plt.rcParams['ytick.labelsize'] = 5\n",
    "plt.rcParams['axes.labelsize'] = 6\n",
    "plt.rcParams[\"xtick.top\"] = False\n",
    "plt.rcParams[\"ytick.right\"] = False\n",
    "plt.rcParams[\"lines.linewidth\"] = 0.5\n",
    "plt.rcParams[\"legend.fontsize\"] = 6\n",
    "plt.rcParams['hatch.linewidth'] = 0.5\n",
    "\n",
    "protocol_map = {\n",
    "    \"Visium\": \"10X Visium\",\n",
    "    \"VisiumHD\": \"10X Visium HD\",\n",
    "    \"Chromium\": \"10X Chromium\",\n",
    "    \"Dropseq\": \"Drop-seq\",\n",
    "    \"Stereoseq\": \"Stereo-seq\",\n",
    "    \"Slideseq\": \"Slide-seq V2\",\n",
    "    \"SpatialTranscriptomics\": \"ST\",\n",
    "    \"Microwell\": \"Microwell-seq\",\n",
    "    \"annotation\": \"Annotated PAS\",\n",
    "    \"Annotation\": \"Annotated PAS\",\n",
    "    \"anno\": \"Annotated PAS\",\n",
    "}\n",
    "type_map = {\n",
    "    \"Visium\": \"Spatial transcriptome\",\n",
    "    \"VisiumHD\": \"Spatial transcriptome\",\n",
    "    \"Chromium\": \"scRNA-seq\",\n",
    "    \"Dropseq\": \"scRNA-seq\",\n",
    "    \"Stereoseq\": \"Spatial transcriptome\",\n",
    "    \"Slideseq\": \"Spatial transcriptome\",\n",
    "    \"SpatialTranscriptomics\": \"Spatial transcriptome\",\n",
    "    \"Microwell\": \"scRNA-seq\",\n",
    "}\n",
    "order = [\"10X Chromium\", \"Drop-seq\", \"Microwell-seq\", \"10X Visium\",\"Stereo-seq\", \"Slide-seq V2\", \"ST\"]\n",
    "# order = [\"10X Chromium\", \"Drop-seq\", \"Microwell-seq\", \"10X Visium\", \"10X Visium HD\",\"Stereo-seq\", \"Slide-seq V2\", \"Spatial Transcriptomics\"]\n",
    "\n",
    "color = [\n",
    "    \"#386b98\",\n",
    "    \"#269a51\",\n",
    "    \"#edaa4d\",\n",
    "    \"#d34123\",\n",
    "    \"#7e648a\",\n",
    "    \"#454545\",\n",
    "    \"#929292\",\n",
    "]\n",
    "palette=sns.color_palette(color, 7)\n",
    "mm = 1/25.4"
   ]
  },
  {
   "cell_type": "code",
   "execution_count": 48,
   "metadata": {},
   "outputs": [],
   "source": [
    "raw_cs_list = glob.glob(\"../../data/int_data/data/cs/*multi_cs.bed\")\n"
   ]
  },
  {
   "cell_type": "code",
   "execution_count": 49,
   "metadata": {},
   "outputs": [],
   "source": [
    "result = []\n",
    "for file in raw_cs_list:\n",
    "    sample =\"_\".join(file.split(\"/\")[-1].split(\"_\")[0:4])\n",
    "    protocol = sample.split(\"_\")[0]\n",
    "    raw_bed_counts = len(BedTool(file))\n",
    "    raw_bed_rm_pa_counts = len(BedTool(file.replace(\".bed\", \"_rm_pa.bed\")))\n",
    "    raw_bed_rm_pa_pt_counts = len(BedTool(file.replace(\".bed\", \"_rm_pa_pt.bed\")))\n",
    "    result.append(\n",
    "        {\n",
    "            \"sample\": sample,\n",
    "            \"protocol\": protocol,\n",
    "            \"counts\": raw_bed_counts,\n",
    "            \"rm_pa_counts\": raw_bed_rm_pa_counts,\n",
    "            \"rm_pa_pt_counts\": raw_bed_rm_pa_pt_counts,\n",
    "        }\n",
    "    )\n"
   ]
  },
  {
   "cell_type": "code",
   "execution_count": null,
   "metadata": {},
   "outputs": [],
   "source": [
    "counts_df = pd.DataFrame(result)\n",
    "counts_df[\"pa_counts\"] = counts_df[\"counts\"] - counts_df[\"rm_pa_counts\"]\n",
    "counts_df[\"pt_counts\"] = counts_df[\"rm_pa_counts\"] - counts_df[\"rm_pa_pt_counts\"]\n",
    "counts_df[\"valid_counts\"] = counts_df[\"rm_pa_pt_counts\"]\n",
    "counts_df = counts_df.groupby(\"protocol\").sum()\n",
    "counts_df[\"pa_proportion\"] = counts_df[\"pa_counts\"] / counts_df[\"counts\"]\n",
    "counts_df[\"pt_proportion\"] = counts_df[\"pt_counts\"] / counts_df[\"counts\"]\n",
    "counts_df[\"valid_proportion\"] = counts_df[\"valid_counts\"] / counts_df[\"counts\"]\n",
    "counts_df = counts_df.reset_index()\n",
    "counts_df[\"protocol\"] = counts_df[\"protocol\"].map(protocol_map)\n",
    "counts_df[\"protocol\"] = pd.Categorical(counts_df[\"protocol\"], categories=order)\n",
    "counts_df.sort_values(\"protocol\", inplace=True)\n",
    "# counts_df = counts_df.melt(id_vars=[\"protocol\"], value_vars=[\"pa_proportion\", \"pt_proportion\", \"valid_proportion\"], var_name=\"type\", value_name=\"proportion\")"
   ]
  },
  {
   "cell_type": "code",
   "execution_count": 56,
   "metadata": {},
   "outputs": [],
   "source": [
    "counts_df[\"total_proportion\"] = 1\n",
    "counts_df[\"rm_pa_proportion\"] = 1 - counts_df[\"pa_proportion\"]\n",
    "counts_df[\"rm_pa_pt_proportion\"] = 1 - counts_df[\"pt_proportion\"] - counts_df[\"pa_proportion\"]"
   ]
  },
  {
   "cell_type": "code",
   "execution_count": null,
   "metadata": {},
   "outputs": [],
   "source": [
    "plt.close()\n",
    "fig, ax = plt.subplots(figsize=(60*mm, 36*mm))\n",
    "sns.barplot(\n",
    "    data=counts_df,\n",
    "    x=\"total_proportion\",\n",
    "    y=\"protocol\",\n",
    "    color=palette[2],\n",
    "    label=\"polyA\",\n",
    "    ax=ax\n",
    ")\n",
    "sns.barplot(\n",
    "    data=counts_df,\n",
    "    x=\"rm_pa_proportion\",\n",
    "    y=\"protocol\",\n",
    "    color=palette[1],\n",
    "    label=\"polyT\",\n",
    "    ax=ax\n",
    ")\n",
    "sns.barplot(\n",
    "    data=counts_df,\n",
    "    x=\"rm_pa_pt_proportion\",\n",
    "    y=\"protocol\",\n",
    "    color=palette[0],\n",
    "    label=\"valid\",\n",
    "    ax=ax\n",
    ")\n",
    "ax.set_ylabel(\"\")\n",
    "ax.set_xlabel(\"Proportion\")\n",
    "ax.tick_params(which=\"minor\", left=False)\n",
    "ax.tick_params(which=\"both\", direction=\"out\")\n",
    "ax.legend(loc='center left', bbox_to_anchor=(1, 0.5))\n",
    "plt.tight_layout()\n",
    "plt.show()\n",
    "plt.savefig(\"../../figures/suppfig/figS2b.pdf\")"
   ]
  },
  {
   "cell_type": "code",
   "execution_count": 115,
   "metadata": {},
   "outputs": [],
   "source": [
    "cigar_1 = \"------------------------------------------\"\n",
    "cigar_2 = \"------------------------------------------\"\n",
    "seq1 = \"----ATCCATCACCTACTAAAAAAAAAAAAAAAAAAAAAAAA\"\n",
    "cigar_3 = \"------------------------------------------\"\n",
    "seq2 = \"------------------AAAAAAAAAAAAAAAAAAAAAAAA\"\n",
    "seq3 = \"ACCGATCCATCACCTACTAAAAAAAAAAAAAAAAACTAGGCT\"\n",
    "seq_matrix = np.array([list(cigar_1), list(cigar_2), list(seq1), list(cigar_3), list(seq2),  list(seq3)])\n"
   ]
  },
  {
   "cell_type": "code",
   "execution_count": 107,
   "metadata": {},
   "outputs": [],
   "source": [
    "color_encode = {\n",
    "    \"A\": palette[0],\n",
    "    \"T\": palette[1],\n",
    "    \"C\": palette[2],\n",
    "    \"G\": palette[3],\n",
    "    \"-\": \"white\",\n",
    "}"
   ]
  },
  {
   "cell_type": "code",
   "execution_count": null,
   "metadata": {},
   "outputs": [],
   "source": [
    "h = ma.CatHeatmap(\n",
    "    seq_matrix, palette=color_encode, height=30*mm, width=90*mm\n",
    ")\n",
    "h.add_layer(mp.TextMesh(seq_matrix, color=\"white\", fontsize=5))\n",
    "h.cut_rows([1,2,3,4,5], spacing=0.05)\n",
    "h.add_left(mp.Labels([\"\",\"\", \"Read 1\", \"\", \"Read 2\", \"Reference \\ngenome\"], fontsize=6), pad=2*mm)\n",
    "h.render()\n",
    "plt.savefig(\"../../figures/suppfig/figS2a.pdf\", bbox_inches=\"tight\", dpi=300)"
   ]
  }
 ],
 "metadata": {
  "kernelspec": {
   "display_name": "apasim_analysis",
   "language": "python",
   "name": "apasim_analysis"
  },
  "language_info": {
   "codemirror_mode": {
    "name": "ipython",
    "version": 3
   },
   "file_extension": ".py",
   "mimetype": "text/x-python",
   "name": "python",
   "nbconvert_exporter": "python",
   "pygments_lexer": "ipython3",
   "version": "3.10.14"
  }
 },
 "nbformat": 4,
 "nbformat_minor": 2
}
