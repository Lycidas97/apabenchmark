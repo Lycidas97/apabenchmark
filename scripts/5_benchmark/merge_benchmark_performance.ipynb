{
 "cells": [
  {
   "cell_type": "code",
   "execution_count": 1,
   "metadata": {},
   "outputs": [],
   "source": [
    "import pandas as pd\n",
    "import numpy as np\n",
    "import glob\n",
    "from tqdm import tqdm\n",
    "import itertools"
   ]
  },
  {
   "cell_type": "code",
   "execution_count": 13,
   "metadata": {},
   "outputs": [],
   "source": [
    "match_performance_list = glob.glob('/root/apabenchmark/data/performance/*/*match_performance.tsv')\n",
    "pas_quantification_performance_list = glob.glob('/root/apabenchmark/data/performance/*/*pas_quantify_performance.tsv')\n",
    "de_apa_performance_list = glob.glob('/root/apabenchmark/data/performance/*/*de_apa_performance.tsv')\n",
    "match_te_list = glob.glob('/root/apabenchmark/data/performance/*/*match_te.csv')\n",
    "match_pas_list = glob.glob('/root/apabenchmark/data/performance/*/*match_pas.csv')\n",
    "te_gap_list = glob.glob('/root/apabenchmark/data/performance/*/*te_gap.tsv')"
   ]
  },
  {
   "cell_type": "code",
   "execution_count": 107,
   "metadata": {},
   "outputs": [
    {
     "name": "stderr",
     "output_type": "stream",
     "text": [
      "100%|██████████| 1512/1512 [00:02<00:00, 608.20it/s]\n"
     ]
    }
   ],
   "source": [
    "match_performance_df = pd.DataFrame()\n",
    "for match_performance in tqdm(match_performance_list):\n",
    "    match_performance_df = pd.concat([match_performance_df, pd.read_csv(match_performance, sep='\\t')])"
   ]
  },
  {
   "cell_type": "code",
   "execution_count": 108,
   "metadata": {},
   "outputs": [],
   "source": [
    "match_performance_df.to_csv('/root/apabenchmark/data/performance/match_performance.tsv', sep='\\t', index=False)"
   ]
  },
  {
   "cell_type": "code",
   "execution_count": 109,
   "metadata": {},
   "outputs": [
    {
     "name": "stderr",
     "output_type": "stream",
     "text": [
      "100%|██████████| 1512/1512 [00:02<00:00, 693.79it/s]\n"
     ]
    }
   ],
   "source": [
    "pas_quantification_performance_df = pd.DataFrame()\n",
    "for pas_quantification_performance in tqdm(pas_quantification_performance_list):\n",
    "    pas_quantification_performance_df = pd.concat([pas_quantification_performance_df, pd.read_csv(pas_quantification_performance, sep='\\t')])"
   ]
  },
  {
   "cell_type": "code",
   "execution_count": 110,
   "metadata": {},
   "outputs": [],
   "source": [
    "pas_quantification_performance_df.to_csv('/root/apabenchmark/data/performance/pas_quantification_performance.tsv', sep='\\t', index=False)"
   ]
  },
  {
   "cell_type": "code",
   "execution_count": 111,
   "metadata": {},
   "outputs": [
    {
     "name": "stderr",
     "output_type": "stream",
     "text": [
      "100%|██████████| 1512/1512 [01:11<00:00, 21.14it/s]\n"
     ]
    }
   ],
   "source": [
    "de_apa_performance_df = pd.DataFrame()\n",
    "for de_apa_performance in tqdm(de_apa_performance_list):\n",
    "    de_apa_performance_df = pd.concat([de_apa_performance_df, pd.read_csv(de_apa_performance, sep='\\t')])"
   ]
  },
  {
   "cell_type": "code",
   "execution_count": 112,
   "metadata": {},
   "outputs": [],
   "source": [
    "de_apa_performance_df.to_csv('/root/apabenchmark/data/performance/de_apa_performance.tsv', sep='\\t', index=False)"
   ]
  },
  {
   "cell_type": "code",
   "execution_count": 113,
   "metadata": {},
   "outputs": [],
   "source": [
    "de_apa_performance_df[\n",
    "    de_apa_performance_df[\"filter_type_2\"].str.endswith(\"fc_0.5\") | de_apa_performance_df[\"filter_type_2\"].str.endswith(\"0.2\")\n",
    "    ].to_csv('/root/apabenchmark/data/performance/de_apa_performance_filtered.tsv', sep='\\t', index=False)"
   ]
  },
  {
   "cell_type": "code",
   "execution_count": 114,
   "metadata": {},
   "outputs": [
    {
     "name": "stderr",
     "output_type": "stream",
     "text": [
      "100%|██████████| 1512/1512 [00:10<00:00, 146.44it/s]\n"
     ]
    }
   ],
   "source": [
    "te_dict = {}\n",
    "for match_te in tqdm(match_te_list):\n",
    "    tool = match_te.split('/')[5]\n",
    "    protocol = match_te.split('/')[-1].split('_')[0]\n",
    "    pas_group = match_te.split('/')[-1].split('_')[4]\n",
    "    sample = \"_\".join(match_te.split('/')[-1].split('_')[:7])\n",
    "    match_te_set = set(pd.read_csv(match_te)[\"value\"].to_list())\n",
    "    if pas_group not in te_dict:\n",
    "        te_dict[pas_group] = []\n",
    "    \n",
    "    te_dict[pas_group].append({\n",
    "        \"tool\": tool,\n",
    "        \"protocol\": protocol,\n",
    "        \"pas_group\": pas_group,\n",
    "        \"sample\": sample,\n",
    "        \"te\": match_te_set\n",
    "    })"
   ]
  },
  {
   "cell_type": "code",
   "execution_count": 115,
   "metadata": {},
   "outputs": [
    {
     "name": "stderr",
     "output_type": "stream",
     "text": [
      "100%|██████████| 1512/1512 [00:40<00:00, 36.95it/s] \n"
     ]
    }
   ],
   "source": [
    "pas_dict = {}\n",
    "for match_pas in tqdm(match_pas_list):\n",
    "    tool = match_pas.split('/')[5]\n",
    "    protocol = match_pas.split('/')[-1].split('_')[0]\n",
    "    pas_group = match_pas.split('/')[-1].split('_')[4]\n",
    "    sample = \"_\".join(match_pas.split('/')[-1].split('_')[:7])\n",
    "    match_pas_set = set(pd.read_csv(match_pas)[\"value\"].to_list())\n",
    "    if pas_group not in pas_dict:\n",
    "        pas_dict[pas_group] = []\n",
    "    pas_dict[pas_group].append({\n",
    "        \"tool\": tool,\n",
    "        \"protocol\": protocol,\n",
    "        \"pas\": pas_group,\n",
    "        \"sample\": sample,\n",
    "        \"pas\": match_pas_set\n",
    "    })"
   ]
  },
  {
   "cell_type": "code",
   "execution_count": 116,
   "metadata": {},
   "outputs": [],
   "source": [
    "pas_jaccard_list = []\n",
    "for pas_group in pas_dict:\n",
    "    combinations = list(itertools.combinations(pas_dict[pas_group], 2))\n",
    "    for combination in combinations:\n",
    "        pas_jaccard_list.append({\n",
    "            \"tool_1\": combination[0][\"tool\"],\n",
    "            \"tool_2\": combination[1][\"tool\"],\n",
    "            \"protocol_1\": combination[0][\"protocol\"],\n",
    "            \"protocol_2\": combination[1][\"protocol\"],\n",
    "            \"sample_1\": combination[0][\"sample\"],\n",
    "            \"sample_2\": combination[1][\"sample\"],\n",
    "            \"pas_group\": pas_group,\n",
    "            \"jaccard\": len(combination[0][\"pas\"].intersection(combination[1][\"pas\"])) / len(combination[0][\"pas\"].union(combination[1][\"pas\"]))\n",
    "        })\n",
    "pas_jaccard_df = pd.DataFrame(pas_jaccard_list)\n",
    "pas_jaccard_df_reversed = pas_jaccard_df.copy()\n",
    "pas_jaccard_df_reversed[\"tool_1\"] = pas_jaccard_df[\"tool_2\"]\n",
    "pas_jaccard_df_reversed[\"tool_2\"] = pas_jaccard_df[\"tool_1\"]\n",
    "pas_jaccard_df_reversed[\"protocol_1\"] = pas_jaccard_df[\"protocol_2\"]\n",
    "pas_jaccard_df_reversed[\"protocol_2\"] = pas_jaccard_df[\"protocol_1\"]\n",
    "pas_jaccard_df_reversed[\"sample_1\"] = pas_jaccard_df[\"sample_2\"]\n",
    "pas_jaccard_df_reversed[\"sample_2\"] = pas_jaccard_df[\"sample_1\"]\n",
    "pas_jaccard_df_reversed = pas_jaccard_df_reversed.drop_duplicates()\n",
    "pas_jaccard_df = pd.concat([pas_jaccard_df, pas_jaccard_df_reversed])\n",
    "pas_jaccard_df.to_csv('/root/apabenchmark/data/performance/pas_jaccard.tsv', sep='\\t', index=False)"
   ]
  },
  {
   "cell_type": "code",
   "execution_count": 117,
   "metadata": {},
   "outputs": [],
   "source": [
    "te_jaccard_list = []\n",
    "for key in te_dict:\n",
    "    combinations = list(itertools.combinations(te_dict[pas_group], 2))\n",
    "    for combination in combinations:\n",
    "        te_jaccard_list.append({\n",
    "            \"tool_1\": combination[0][\"tool\"],\n",
    "            \"tool_2\": combination[1][\"tool\"],\n",
    "            \"protocol_1\": combination[0][\"protocol\"],\n",
    "            \"protocol_2\": combination[1][\"protocol\"],\n",
    "            \"sample_1\": combination[0][\"sample\"],\n",
    "            \"sample_2\": combination[1][\"sample\"],\n",
    "            \"pas_group\": pas_group,\n",
    "            \"jaccard\": len(combination[0][\"te\"].intersection(combination[1][\"te\"])) / len(combination[0][\"te\"].union(combination[1][\"te\"]))\n",
    "        })\n",
    "te_jaccard_df = pd.DataFrame(te_jaccard_list)\n",
    "te_jaccard_df_reversed = te_jaccard_df.copy()\n",
    "te_jaccard_df_reversed[\"tool_1\"] = te_jaccard_df[\"tool_2\"]\n",
    "te_jaccard_df_reversed[\"tool_2\"] = te_jaccard_df[\"tool_1\"]\n",
    "te_jaccard_df_reversed[\"protocol_1\"] = te_jaccard_df[\"protocol_2\"]\n",
    "te_jaccard_df_reversed[\"protocol_2\"] = te_jaccard_df[\"protocol_1\"]\n",
    "te_jaccard_df_reversed[\"sample_1\"] = te_jaccard_df[\"sample_2\"]\n",
    "te_jaccard_df_reversed[\"sample_2\"] = te_jaccard_df[\"sample_1\"]\n",
    "te_jaccard_df_reversed = te_jaccard_df_reversed.drop_duplicates()\n",
    "te_jaccard_df = pd.concat([te_jaccard_df, te_jaccard_df_reversed])\n",
    "te_jaccard_df.to_csv('/root/apabenchmark/data/performance/te_jaccard.tsv', sep='\\t', index=False)"
   ]
  },
  {
   "cell_type": "code",
   "execution_count": 19,
   "metadata": {},
   "outputs": [
    {
     "name": "stderr",
     "output_type": "stream",
     "text": [
      "100%|██████████| 1512/1512 [00:33<00:00, 44.80it/s]\n"
     ]
    }
   ],
   "source": [
    "te_gap_df_list = []\n",
    "for te_gap in tqdm(te_gap_list):\n",
    "    tool = te_gap.split('/')[5]\n",
    "    protocol = te_gap.split('/')[-1].split('_')[0]\n",
    "    pas_group = te_gap.split('/')[-1].split('_')[4]\n",
    "    sample = \"_\".join(te_gap.split('/')[-1].split('_')[:7])\n",
    "    te_gap_df = pd.read_csv(te_gap, sep='\\t')\n",
    "    te_gap_df[\"tool\"] = tool\n",
    "    te_gap_df[\"protocol\"] = protocol\n",
    "    te_gap_df[\"pas_group\"] = pas_group\n",
    "    te_gap_df[\"sample\"] = sample\n",
    "    te_gap_df_list.append(te_gap_df)\n",
    "\n",
    "all_te_gap_df = pd.concat(te_gap_df_list)"
   ]
  },
  {
   "cell_type": "code",
   "execution_count": 24,
   "metadata": {},
   "outputs": [],
   "source": [
    "all_te_gap_df = pd.concat(te_gap_df_list).reset_index(drop=True)\n",
    "# all_te_gap_df[\"match\"] = all_te_gap_df[\"pas_num\"] == all_te_gap_df[\"pd_pas_num\"]"
   ]
  },
  {
   "cell_type": "code",
   "execution_count": 25,
   "metadata": {},
   "outputs": [],
   "source": [
    "from pyarrow import feather\n",
    "all_te_gap_df.to_feather('/root/apabenchmark/data/performance/te_gap.feather')"
   ]
  },
  {
   "cell_type": "code",
   "execution_count": 17,
   "metadata": {},
   "outputs": [],
   "source": [
    "all_te_gap_df.to_csv('/root/apabenchmark/data/performance/te_gap.tsv', sep='\\t', index=False)"
   ]
  }
 ],
 "metadata": {
  "kernelspec": {
   "display_name": "apasim_analysis",
   "language": "python",
   "name": "apasim_analysis"
  },
  "language_info": {
   "codemirror_mode": {
    "name": "ipython",
    "version": 3
   },
   "file_extension": ".py",
   "mimetype": "text/x-python",
   "name": "python",
   "nbconvert_exporter": "python",
   "pygments_lexer": "ipython3",
   "version": "3.10.14"
  }
 },
 "nbformat": 4,
 "nbformat_minor": 2
}
