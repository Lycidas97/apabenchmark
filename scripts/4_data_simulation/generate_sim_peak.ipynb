{
 "cells": [
  {
   "cell_type": "code",
   "execution_count": 1,
   "metadata": {},
   "outputs": [],
   "source": [
    "import sys\n",
    "import pandas as pd\n",
    "from argparse import ArgumentParser\n",
    "import os\n",
    "import pickle\n",
    "import numpy as np\n"
   ]
  },
  {
   "cell_type": "code",
   "execution_count": 2,
   "metadata": {},
   "outputs": [],
   "source": [
    "def generate_junction_cigar(\n",
    "    row,\n",
    "    center,\n",
    "    read_length\n",
    "):\n",
    "    if row[\"distance_to_pas\"] <= center:\n",
    "        return f\"{read_length}M\"\n",
    "    elif row[\"distance_to_pas\"] - read_length >= center:\n",
    "        return f\"{read_length}M\"\n",
    "    else:\n",
    "        return f\"{center - row['distance_to_pas'] + read_length}M1000N{row['distance_to_pas']-center}M\"\n",
    "def generate_sim_peak(\n",
    "    peak_size,\n",
    "    read_length,\n",
    "    center=-50,\n",
    "    std_dev=10,\n",
    "    junction_prob=0.2,\n",
    "    junction_fraction=0.1,\n",
    "):\n",
    "    distance_list = np.random.normal(center, std_dev, peak_size)\n",
    "    distance_list = np.round(distance_list).astype(int)\n",
    "    distance_list = np.clip(distance_list, -10000, 0)\n",
    "    peak_df = pd.DataFrame({\"distance_to_pas\": distance_list})\n",
    "    peak_df[\"cigar_string\"] = f\"{read_length}M\"\n",
    "    if np.random.rand() < junction_prob:\n",
    "        peak_df[\"cigar_string\"] = peak_df.apply(\n",
    "            generate_junction_cigar, axis=1, center=center, read_length=read_length\n",
    "        )\n",
    "\n",
    "    peak_df[\"reference_length\"] = read_length\n",
    "    peak_df[\"strand\"] = \"+\"\n",
    "    peak_df[\"is_tail\"] = False\n",
    "    peak_df[\"is_gap\"] = False\n",
    "    return peak_df\n",
    "\n",
    "\n",
    "peak_num = 500\n",
    "peak_sizes = [250, 500, 1000, 2000, 4000]\n",
    "read_lengths = [40, 70, 100, 130, 160]\n",
    "center = -50\n",
    "std_dev = 10"
   ]
  },
  {
   "cell_type": "code",
   "execution_count": 3,
   "metadata": {},
   "outputs": [],
   "source": [
    "for peak_size in peak_sizes:\n",
    "    for read_length in read_lengths:\n",
    "        peak_list = [generate_sim_peak(peak_size, read_length) for i in range(peak_num)]\n",
    "        with open(f\"/root/apabenchmark/simulation/sim_peak/simulated_peak_ps{peak_size}_rl{read_length}.pickle\", \"wb\") as f:\n",
    "            pickle.dump(peak_list, f)"
   ]
  }
 ],
 "metadata": {
  "kernelspec": {
   "display_name": "apasim",
   "language": "python",
   "name": "apasim"
  }
 },
 "nbformat": 4,
 "nbformat_minor": 2
}
