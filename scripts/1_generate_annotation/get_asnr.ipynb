{
 "cells": [
  {
   "cell_type": "code",
   "execution_count": 5,
   "metadata": {},
   "outputs": [],
   "source": [
    "import pandas as pd\n",
    "import numpy as np\n",
    "from Bio import SeqIO\n",
    "from copy import deepcopy\n",
    "from pybedtools import BedTool"
   ]
  },
  {
   "cell_type": "code",
   "execution_count": 6,
   "metadata": {},
   "outputs": [],
   "source": [
    "def find_asnr(seq, match_length, max_mismatch, strand):\n",
    "    indices = []\n",
    "    i = 0\n",
    "    length = len(seq)\n",
    "    if strand == \"+\":\n",
    "        while i < length:\n",
    "            if seq[i] != 'A':\n",
    "                i += 1\n",
    "                continue\n",
    "            j = i + 1\n",
    "            non_A_count = 0\n",
    "            while j < len(seq) and non_A_count <= max_mismatch:\n",
    "                if seq[j] != 'A':\n",
    "                    non_A_count += 1\n",
    "                j += 1\n",
    "            while non_A_count > max_mismatch: \n",
    "                j -= 1\n",
    "                if seq[j] != 'A':\n",
    "                    non_A_count -= 1\n",
    "            if j - i >= match_length:\n",
    "                indices.append(i)\n",
    "            i = j\n",
    "    else:\n",
    "        seq = seq[::-1]\n",
    "        while i < length:\n",
    "            if seq[i] != 'T':\n",
    "                i += 1\n",
    "                continue\n",
    "            j = i + 1\n",
    "            non_T_count = 0\n",
    "            while j < len(seq) and non_T_count <= max_mismatch:\n",
    "                if seq[j] != 'T':\n",
    "                    non_T_count += 1\n",
    "                j += 1\n",
    "            while non_T_count > max_mismatch: \n",
    "                j -= 1\n",
    "                if seq[j] != 'T':\n",
    "                    non_T_count -= 1\n",
    "            if j - i >= match_length:\n",
    "                indices.append(length - i - 1)\n",
    "            i = j\n",
    "    return indices\n",
    "\n",
    "def search_origin_coord(\n",
    "    orig_coord,\n",
    "    search_start,\n",
    "    search_end,\n",
    "):\n",
    "    accumulated_intervals = [[0, end-start] for start, end in orig_coord]\n",
    "    for i in range(1, len(accumulated_intervals)):\n",
    "        accumulated_intervals[i][0] = accumulated_intervals[i-1][1]\n",
    "        accumulated_intervals[i][1] += accumulated_intervals[i][0]\n",
    "    accumulated_intervals = [x[1] for x in accumulated_intervals]\n",
    "    accumulated_intervals = np.array([0] + accumulated_intervals)\n",
    "    start_idx = np.searchsorted(accumulated_intervals, search_start) - 1\n",
    "    start_idx = max(0, start_idx)\n",
    "    end_idx = np.searchsorted(accumulated_intervals, search_end) - 1\n",
    "    return_orig_coord = deepcopy(orig_coord[start_idx:end_idx+1])\n",
    "    if len(return_orig_coord) == 0:\n",
    "        return_orig_coord = None\n",
    "    else:\n",
    "        return_orig_coord[0][0] = return_orig_coord[0][0] - accumulated_intervals[start_idx] + search_start\n",
    "        return_orig_coord[-1][1] = return_orig_coord[-1][1] - accumulated_intervals[end_idx] + search_end\n",
    "    return return_orig_coord\n"
   ]
  },
  {
   "cell_type": "code",
   "execution_count": 7,
   "metadata": {},
   "outputs": [],
   "source": [
    "gtf_path = \"/root/nfsdata/REFERENCE/GENOME/MOUSE/vm25/gencode.vM25.annotation.gtf\"\n",
    "genome_path = \"/root/nfsdata/REFERENCE/GENOME/MOUSE/vm25/GRCm38.p6.genome.fa\""
   ]
  },
  {
   "cell_type": "code",
   "execution_count": 17,
   "metadata": {},
   "outputs": [],
   "source": [
    "upstream_extend_length = 200\n",
    "downstream_extend_length = 50"
   ]
  },
  {
   "cell_type": "code",
   "execution_count": 9,
   "metadata": {},
   "outputs": [],
   "source": [
    "gtf = pd.read_csv(gtf_path, comment='#', sep='\\t', header=None, \n",
    "                      names=['seqname', 'source', 'feature', 'start', 'end', 'score', 'strand', 'frame', 'attribute'])\n",
    "genome_dict = SeqIO.to_dict(list(SeqIO.parse(genome_path, \"fasta\")))"
   ]
  },
  {
   "cell_type": "code",
   "execution_count": 19,
   "metadata": {},
   "outputs": [],
   "source": [
    "exon_gtf = gtf.loc[(gtf['feature'] == 'exon') & (gtf[\"seqname\"] != \"chrM\"), :].sort_values(by=['seqname', 'start']).copy()\n",
    "exon_gtf[\"seq\"] = exon_gtf.apply(lambda x: str(genome_dict[x['seqname']].seq[x['start']-1:x['end']]) , axis=1)\n",
    "exon_gtf['transcript_id'] = exon_gtf['attribute'].apply(lambda x: x.split(\";\")[1].split(\" \")[2].replace('\"', ''))"
   ]
  },
  {
   "cell_type": "code",
   "execution_count": 20,
   "metadata": {},
   "outputs": [],
   "source": [
    "transcript_seq = pd.DataFrame(exon_gtf.groupby('transcript_id')[\"seq\"].apply(\"\".join))\n",
    "transcript_seq[\"strand\"] = exon_gtf.groupby('transcript_id')[\"strand\"].first()\n",
    "transcript_seq[\"chr\"] = exon_gtf.groupby('transcript_id')[\"seqname\"].first()\n",
    "transcript_seq[\"orig_coord\"] = exon_gtf.groupby('transcript_id')[['start', 'end']].apply(lambda x: [[start, end] for start, end in zip(x['start'], x['end'])])\n",
    "transcript_seq[\"asnr_stop\"] = transcript_seq.apply(lambda x: find_asnr(x[\"seq\"], 10, 1, x[\"strand\"]), axis=1)"
   ]
  },
  {
   "cell_type": "code",
   "execution_count": 21,
   "metadata": {},
   "outputs": [],
   "source": [
    "transcript_seq[\"asnr_expand\"] = transcript_seq.apply(lambda x: [[max(0, i-upstream_extend_length), i+downstream_extend_length] for i in x[\"asnr_stop\"]] if x[\"strand\"] == \"+\" else [[i-downstream_extend_length, min(i+upstream_extend_length, len(x[\"seq\"]))] for i in x[\"asnr_stop\"]], axis=1)\n",
    "transcript_seq[\"asnr_coord\"] = transcript_seq.apply(lambda x: [search_origin_coord(x[\"orig_coord\"], start, end) for start, end in x[\"asnr_expand\"]], axis=1)"
   ]
  },
  {
   "cell_type": "code",
   "execution_count": 22,
   "metadata": {},
   "outputs": [],
   "source": [
    "exonic_asnr_df = pd.merge(transcript_seq[\"asnr_coord\"].explode().explode().dropna().reset_index(), transcript_seq[\"chr\"].reset_index())\n",
    "exonic_asnr_df = pd.merge(exonic_asnr_df, transcript_seq[\"strand\"].reset_index())\n",
    "exonic_asnr_df[\"start\"] = exonic_asnr_df[\"asnr_coord\"].apply(lambda x: x[0])\n",
    "exonic_asnr_df[\"end\"] = exonic_asnr_df[\"asnr_coord\"].apply(lambda x: x[1])\n",
    "exonic_asnr_df[\"name\"] = exonic_asnr_df[\"transcript_id\"]\n",
    "exonic_asnr_df[\"score\"] = \".\""
   ]
  },
  {
   "cell_type": "code",
   "execution_count": 23,
   "metadata": {},
   "outputs": [],
   "source": [
    "gene_bed = BedTool.from_dataframe(gtf.loc[(gtf['feature'] == 'gene') & (gtf[\"seqname\"] != \"chrM\"), ['seqname', 'start', 'end', 'feature','score','strand']])\n",
    "exon_bed = BedTool.from_dataframe(exon_gtf[['seqname', 'start', 'end', 'feature','score','strand']])\n",
    "intron_bed = gene_bed.subtract(exon_bed, s=True).sort()\n",
    "intron_df = intron_bed.to_dataframe()\n",
    "intron_df[\"seq\"] = intron_df.apply(lambda x: str(genome_dict[x['chrom']].seq[x['start']:x['end']]) , axis=1)\n",
    "intron_df[\"asnr_stop\"] = intron_df.apply(lambda x: find_asnr(x[\"seq\"], 10, 1, x[\"strand\"]), axis=1)\n",
    "intron_df[\"asnr_expand\"] = intron_df.apply(lambda x: [[max(0, i-upstream_extend_length), i+downstream_extend_length] for i in x[\"asnr_stop\"]] if x[\"strand\"] == \"+\" else [[i-downstream_extend_length, min(i+upstream_extend_length, len(x[\"seq\"]))] for i in x[\"asnr_stop\"]], axis=1)\n",
    "intron_df[\"asnr_coord\"] = intron_df.apply(lambda x: [[x[\"start\"]+start, x[\"start\"]+end] for start, end in x[\"asnr_expand\"]], axis=1)"
   ]
  },
  {
   "cell_type": "code",
   "execution_count": 24,
   "metadata": {},
   "outputs": [],
   "source": [
    "intronic_asnr_df = pd.merge(intron_df[\"asnr_coord\"].explode().dropna().reset_index(), intron_df[['chrom', 'strand']].reset_index())\n",
    "intronic_asnr_df[\"start\"] = intronic_asnr_df[\"asnr_coord\"].apply(lambda x: x[0])\n",
    "intronic_asnr_df[\"end\"] = intronic_asnr_df[\"asnr_coord\"].apply(lambda x: x[1])\n",
    "intronic_asnr_df[\"name\"] = \"intron\"\n",
    "intronic_asnr_df[\"score\"] = \".\"\n",
    "intronic_asnr_df[\"chr\"] = intronic_asnr_df[\"chrom\"]"
   ]
  },
  {
   "cell_type": "code",
   "execution_count": 25,
   "metadata": {},
   "outputs": [],
   "source": [
    "exonic_asnr_df.loc[:, [\"chr\", \"start\", \"end\", \"name\", \"score\", \"strand\"]].to_csv(\"./mm10_exon_asnr.bed\", sep='\\t', header=False, index=False)\n",
    "intronic_asnr_df.loc[:, [\"chr\", \"start\", \"end\", \"name\", \"score\", \"strand\"]].to_csv(\"./mm10_intron_asnr.bed\", sep='\\t', header=False, index=False)"
   ]
  },
  {
   "cell_type": "code",
   "execution_count": null,
   "metadata": {},
   "outputs": [],
   "source": [
    "# bedtools subtract -A -s -a mm10_exon_asnr.bed -b /root/apabenchmark/data/annotation/mouse_integrated_pas.bed > mm10_exon_asnr_filtered.bed\n",
    "# bedtools subtract -A -s -a mm10_intron_asnr.bed -b /root/apabenchmark/data/annotation/mouse_integrated_pas.bed > mm10_intron_asnr_filtered.bed"
   ]
  }
 ],
 "metadata": {
  "kernelspec": {
   "display_name": "apasim",
   "language": "python",
   "name": "apasim"
  },
  "language_info": {
   "codemirror_mode": {
    "name": "ipython",
    "version": 3
   },
   "file_extension": ".py",
   "mimetype": "text/x-python",
   "name": "python",
   "nbconvert_exporter": "python",
   "pygments_lexer": "ipython3",
   "version": "3.10.14"
  }
 },
 "nbformat": 4,
 "nbformat_minor": 2
}
